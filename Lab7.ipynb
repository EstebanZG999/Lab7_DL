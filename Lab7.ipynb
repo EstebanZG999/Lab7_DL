{
 "cells": [
  {
   "cell_type": "markdown",
   "id": "3f3b3198",
   "metadata": {},
   "source": [
    "# Laboratorio 7 Deep Learning\n",
    "\n",
    "Laboratorio 7 – Deep Learning\n",
    "\n",
    "Edwin Ortega 22305 - Esteban Zambrano 22119\n",
    "\n",
    "Link del repositorio:<br>\n",
    "https://github.com/EstebanZG999/Lab7_DL"
   ]
  }
 ],
 "metadata": {
  "language_info": {
   "name": "python"
  }
 },
 "nbformat": 4,
 "nbformat_minor": 5
}
